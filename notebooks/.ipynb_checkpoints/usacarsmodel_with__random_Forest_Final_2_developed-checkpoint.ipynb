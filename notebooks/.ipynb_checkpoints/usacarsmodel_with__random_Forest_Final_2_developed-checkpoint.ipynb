{
 "cells": [
  {
   "cell_type": "markdown",
   "metadata": {},
   "source": [
    "# Load libraries"
   ]
  },
  {
   "cell_type": "code",
   "execution_count": 1,
   "metadata": {},
   "outputs": [],
   "source": [
    "\n",
    "import numpy as np\n",
    "import pandas as pd\n",
    "import matplotlib.pyplot as plt\n",
    "from sklearn.linear_model import LinearRegression\n",
    "from sklearn.ensemble import RandomForestRegressor\n",
    "from sklearn.model_selection import train_test_split\n",
    "from sklearn.metrics import mean_squared_error\n",
    "\n",
    "# For prints I am using logging because it is a more general framework\n",
    "import logging\n",
    "logger = logging.getLogger()\n",
    "logger.setLevel(logging.INFO)\n"
   ]
  },
  {
   "cell_type": "markdown",
   "metadata": {},
   "source": [
    "# Define custom functions"
   ]
  },
  {
   "cell_type": "code",
   "execution_count": 2,
   "metadata": {},
   "outputs": [],
   "source": [
    "  \n",
    "def extract_expiring_minutes(x):\n",
    "    \n",
    "    \"\"\"\n",
    "    This function takes as input a string formatted as '<number> <metric> <xx>' and returns the minutes before expiring.\n",
    "    When x = 'Listing expired' we set it to 0.\n",
    "    When x is null it returns -999. General errors are handled through a -99. \n",
    "    \n",
    "    Parameters\n",
    "    ----------\n",
    "    x : string\n",
    "    \n",
    "    Returns\n",
    "    ----------\n",
    "    float \n",
    "    \"\"\"\n",
    "    \n",
    "    # If input is null, return -999\n",
    "    if pd.isnull(x):\n",
    "        return float(-999)\n",
    "    \n",
    "    # Make string to lower to make it safer\n",
    "    x = x.lower()\n",
    "    \n",
    "    if(x=='listing expired'):\n",
    "        return float(0)\n",
    "    else:\n",
    "        try:\n",
    "            split_string = x.split(\" \")\n",
    "            split_number = split_string[0]\n",
    "            split_metric = split_string[1]\n",
    "            \n",
    "            if(split_metric == 'minutes'):\n",
    "                return float(split_number)\n",
    "            elif(split_metric == 'hours'):\n",
    "                return float(split_number)*60\n",
    "            elif(split_metric == 'days'):\n",
    "                return float(split_number)*60*24\n",
    "            else:\n",
    "                return float(-999)\n",
    "        except:\n",
    "            return float(-99)\n",
    "        \n",
    "def run_unit_tests_extract_expiring_minutes():\n",
    "    \n",
    "    \"\"\"\n",
    "    This function runs unit tests for the function extract_expiring_minutes(x).\n",
    "    \"\"\"\n",
    "    \n",
    "    logging.info(' ')\n",
    "    logging.info('########################')\n",
    "    logging.info('Start unit tests for function extract_expiring_minutes')\n",
    "    \n",
    "    # Define set of strings to be tested\n",
    "    list_input_unit_tests = [\n",
    "                            '3 hours left', '3 minutes left', '3 days left', 'listing expired'\n",
    "                            ,'3 HOuRS LEFT', '3 MINuTES LEFT', '3 Days left', 'Listing expired'\n",
    "                            , '', ' ', 'this should return a -999', 'thisshouldreturna-99'\n",
    "                            ]\n",
    "    for x in list_input_unit_tests:\n",
    "        logging.info(f'Input: {x} -> output: {extract_expiring_minutes(x)}')\n",
    "        \n",
    "    logging.info('########################')\n",
    "    logging.info('End unit tests for function extract_expiring_minutes')\n",
    "    logging.info(' ')\n",
    "    \n",
    "    return\n",
    "        \n",
    "def custom_1hot_encoder(df, col, threshold_value_counts=0):\n",
    "    \n",
    "    \"\"\"\n",
    "    This function performs 1-hot encoding of a categorical variable; sparse categorical variables can be controlled by the parameters\n",
    "    threshold_value_counts, which creates an encoded column only if the number of observation for a sparse level is greater than threshold_value_counts.\n",
    "    \n",
    "    Parameters\n",
    "    ----------\n",
    "    df : pandas Dataframe\n",
    "    \n",
    "    col : string\n",
    "         Column on which we want to perform 1-hot encoding\n",
    "         \n",
    "    threshold_value_counts : float, default to 0.\n",
    "                             Parameter which handles sparsity. Must be positive. \n",
    "                             If the number of observation of a level is < threshold_value_counts, then we merge the level into a \"OTHER\" level.\n",
    "    \n",
    "    Returns\n",
    "    ----------\n",
    "    pandas frame with the encoded columns \n",
    "    \"\"\"\n",
    "    \n",
    "    # Get the column distribution\n",
    "    df_value_counts = df[col].value_counts().reset_index()\n",
    "    \n",
    "    # Filter levels that have a frequency greater than threshold_value_counts\n",
    "    df_value_counts = df_value_counts[df_value_counts[col] >= threshold_value_counts]\n",
    "    \n",
    "    # Extract column levels\n",
    "    levels = df_value_counts['index'].unique().tolist()\n",
    "    \n",
    "    list_encoded = []\n",
    "    for level in levels:\n",
    "        df[f'encoded_{col}_{level}'] = df[col].map(lambda x: 1 if x==level else 0)\n",
    "        list_encoded.append(f'encoded_{col}_{level}')\n",
    "        \n",
    "    df[f'encoded_{col}_other'] = 1- df[list_encoded].sum(axis = 1)\n",
    "    \n",
    "    return df\n",
    "\n",
    "def get_list_constant_numerical_features(df, list_features):\n",
    "    \n",
    "    \"\"\"\n",
    "    This function returns a list of constant features of a dataframe.\n",
    "    \n",
    "    Parameters\n",
    "    ----------\n",
    "    df : pandas Dataframe\n",
    "    \n",
    "    list_features : list\n",
    "                    List of columns to be analyzed\n",
    "    \n",
    "    Returns\n",
    "    ----------\n",
    "    list of constant columns \n",
    "    \"\"\"\n",
    "    \n",
    "    list_constant_features = []\n",
    "    for col in list_features:\n",
    "        if (df[col].value_counts().shape[0] == 1):\n",
    "            list_constant_features.append(col)\n",
    "        else:\n",
    "            pass\n",
    "            \n",
    "    logging.info(f'Df has the following constant features: {list_constant_features}')\n",
    "    \n",
    "    return list_constant_features\n",
    "\n",
    "def perform_diagnostics(model, X_train, X_test, y_train, y_test):\n",
    "    \n",
    "    \"\"\"\n",
    "    This function performs model diagnostic.\n",
    "    \n",
    "    Parameters\n",
    "    ----------\n",
    "    model: Sklearn model\n",
    "    \n",
    "    X_train, X_test_: pandas frame\n",
    "    y_train, y_test: pandas series\n",
    "    \"\"\"\n",
    "    \n",
    "    # Extract predictions\n",
    "    predictions_train = model.predict(X_train)\n",
    "    predictions_test = model.predict(X_test)\n",
    "    \n",
    "    logging.info(f'Train vs Test - Average target variable: {y_train.mean()} vs {y_test.mean()}')\n",
    "    logging.info(f'Train vs Test - Average model prediction: {predictions_train.mean()} vs {predictions_test.mean()}')\n",
    "    logging.info(f'Train vs Test - Model mse: {mean_squared_error(y_train, predictions_train)} vs {mean_squared_error(y_test, predictions_test)}')\n",
    "    logging.info(f'Train vs Test - Best random model mse: {y_train.var()} vs {y_test.var()}')\n",
    "    \n",
    "    return predictions_train, predictions_test\n"
   ]
  },
  {
   "cell_type": "markdown",
   "metadata": {},
   "source": [
    "# Define parameters"
   ]
  },
  {
   "cell_type": "code",
   "execution_count": 3,
   "metadata": {},
   "outputs": [],
   "source": [
    "\n",
    "# Processing parameters\n",
    "local_path_input = 'USA_cars_datasets.csv'\n",
    "\n",
    "# Modelling parameters\n",
    "list_features_categorical = ['brand', 'model', 'title_status', 'state', 'country', 'color']\n",
    "list_features_numerical   = ['year', 'mileage', 'condition']\n",
    "target_variable           = 'price'\n",
    "seed_int                  = 10                               # Adding a seed parameter to enable experiment riproducibility\n",
    "\n",
    "dict_encoder = {\n",
    "                'title_status':  0,   # We keep all the levels\n",
    "                'country':       0,   # We keep all the levels (though Canada has only 7 observations)\n",
    "                'brand':        10,   # We keep around 15 most dense levels\n",
    "                'model':        15,   # We keep around 30 most dense levels\n",
    "                'state':        10,   # We keep around 30 most dense levels\n",
    "                'color':        10,   # We keep around 10 most dense levels\n",
    "               }\n"
   ]
  },
  {
   "cell_type": "markdown",
   "metadata": {},
   "source": [
    "# Main processing"
   ]
  },
  {
   "cell_type": "code",
   "execution_count": 4,
   "metadata": {},
   "outputs": [
    {
     "name": "stderr",
     "output_type": "stream",
     "text": [
      "INFO:root: \n",
      "INFO:root:########################\n",
      "INFO:root:Start unit tests for function extract_expiring_minutes\n",
      "INFO:root:Input: 3 hours left -> output: 180.0\n",
      "INFO:root:Input: 3 minutes left -> output: 3.0\n",
      "INFO:root:Input: 3 days left -> output: 4320.0\n",
      "INFO:root:Input: listing expired -> output: 0.0\n",
      "INFO:root:Input: 3 HOuRS LEFT -> output: 180.0\n",
      "INFO:root:Input: 3 MINuTES LEFT -> output: 3.0\n",
      "INFO:root:Input: 3 Days left -> output: 4320.0\n",
      "INFO:root:Input: Listing expired -> output: 0.0\n",
      "INFO:root:Input:  -> output: -99.0\n",
      "INFO:root:Input:   -> output: -999.0\n",
      "INFO:root:Input: this should return a -999 -> output: -999.0\n",
      "INFO:root:Input: thisshouldreturna-99 -> output: -99.0\n",
      "INFO:root:########################\n",
      "INFO:root:End unit tests for function extract_expiring_minutes\n",
      "INFO:root: \n",
      "INFO:numexpr.utils:NumExpr defaulting to 2 threads.\n",
      "INFO:root:Dataframe shape: (2499, 113)\n"
     ]
    },
    {
     "data": {
      "text/html": [
       "<div>\n",
       "<style scoped>\n",
       "    .dataframe tbody tr th:only-of-type {\n",
       "        vertical-align: middle;\n",
       "    }\n",
       "\n",
       "    .dataframe tbody tr th {\n",
       "        vertical-align: top;\n",
       "    }\n",
       "\n",
       "    .dataframe thead th {\n",
       "        text-align: right;\n",
       "    }\n",
       "</style>\n",
       "<table border=\"1\" class=\"dataframe\">\n",
       "  <thead>\n",
       "    <tr style=\"text-align: right;\">\n",
       "      <th></th>\n",
       "      <th>Unnamed: 0</th>\n",
       "      <th>price</th>\n",
       "      <th>brand</th>\n",
       "      <th>model</th>\n",
       "      <th>year</th>\n",
       "      <th>title_status</th>\n",
       "      <th>mileage</th>\n",
       "      <th>color</th>\n",
       "      <th>vin</th>\n",
       "      <th>lot</th>\n",
       "      <th>...</th>\n",
       "      <th>encoded_color_silver</th>\n",
       "      <th>encoded_color_red</th>\n",
       "      <th>encoded_color_blue</th>\n",
       "      <th>encoded_color_no_color</th>\n",
       "      <th>encoded_color_green</th>\n",
       "      <th>encoded_color_orange</th>\n",
       "      <th>encoded_color_gold</th>\n",
       "      <th>encoded_color_charcoal</th>\n",
       "      <th>encoded_color_brown</th>\n",
       "      <th>encoded_color_other</th>\n",
       "    </tr>\n",
       "  </thead>\n",
       "  <tbody>\n",
       "    <tr>\n",
       "      <th>0</th>\n",
       "      <td>0</td>\n",
       "      <td>6300</td>\n",
       "      <td>toyota</td>\n",
       "      <td>cruiser</td>\n",
       "      <td>2008</td>\n",
       "      <td>clean vehicle</td>\n",
       "      <td>274117.0</td>\n",
       "      <td>black</td>\n",
       "      <td>jtezu11f88k007763</td>\n",
       "      <td>159348797</td>\n",
       "      <td>...</td>\n",
       "      <td>0</td>\n",
       "      <td>0</td>\n",
       "      <td>0</td>\n",
       "      <td>0</td>\n",
       "      <td>0</td>\n",
       "      <td>0</td>\n",
       "      <td>0</td>\n",
       "      <td>0</td>\n",
       "      <td>0</td>\n",
       "      <td>0</td>\n",
       "    </tr>\n",
       "    <tr>\n",
       "      <th>1</th>\n",
       "      <td>1</td>\n",
       "      <td>2899</td>\n",
       "      <td>ford</td>\n",
       "      <td>se</td>\n",
       "      <td>2011</td>\n",
       "      <td>clean vehicle</td>\n",
       "      <td>190552.0</td>\n",
       "      <td>silver</td>\n",
       "      <td>2fmdk3gc4bbb02217</td>\n",
       "      <td>166951262</td>\n",
       "      <td>...</td>\n",
       "      <td>1</td>\n",
       "      <td>0</td>\n",
       "      <td>0</td>\n",
       "      <td>0</td>\n",
       "      <td>0</td>\n",
       "      <td>0</td>\n",
       "      <td>0</td>\n",
       "      <td>0</td>\n",
       "      <td>0</td>\n",
       "      <td>0</td>\n",
       "    </tr>\n",
       "    <tr>\n",
       "      <th>2</th>\n",
       "      <td>2</td>\n",
       "      <td>5350</td>\n",
       "      <td>dodge</td>\n",
       "      <td>mpv</td>\n",
       "      <td>2018</td>\n",
       "      <td>clean vehicle</td>\n",
       "      <td>39590.0</td>\n",
       "      <td>silver</td>\n",
       "      <td>3c4pdcgg5jt346413</td>\n",
       "      <td>167655728</td>\n",
       "      <td>...</td>\n",
       "      <td>1</td>\n",
       "      <td>0</td>\n",
       "      <td>0</td>\n",
       "      <td>0</td>\n",
       "      <td>0</td>\n",
       "      <td>0</td>\n",
       "      <td>0</td>\n",
       "      <td>0</td>\n",
       "      <td>0</td>\n",
       "      <td>0</td>\n",
       "    </tr>\n",
       "    <tr>\n",
       "      <th>3</th>\n",
       "      <td>3</td>\n",
       "      <td>25000</td>\n",
       "      <td>ford</td>\n",
       "      <td>door</td>\n",
       "      <td>2014</td>\n",
       "      <td>clean vehicle</td>\n",
       "      <td>64146.0</td>\n",
       "      <td>blue</td>\n",
       "      <td>1ftfw1et4efc23745</td>\n",
       "      <td>167753855</td>\n",
       "      <td>...</td>\n",
       "      <td>0</td>\n",
       "      <td>0</td>\n",
       "      <td>1</td>\n",
       "      <td>0</td>\n",
       "      <td>0</td>\n",
       "      <td>0</td>\n",
       "      <td>0</td>\n",
       "      <td>0</td>\n",
       "      <td>0</td>\n",
       "      <td>0</td>\n",
       "    </tr>\n",
       "    <tr>\n",
       "      <th>4</th>\n",
       "      <td>4</td>\n",
       "      <td>27700</td>\n",
       "      <td>chevrolet</td>\n",
       "      <td>1500</td>\n",
       "      <td>2018</td>\n",
       "      <td>clean vehicle</td>\n",
       "      <td>6654.0</td>\n",
       "      <td>red</td>\n",
       "      <td>3gcpcrec2jg473991</td>\n",
       "      <td>167763266</td>\n",
       "      <td>...</td>\n",
       "      <td>0</td>\n",
       "      <td>1</td>\n",
       "      <td>0</td>\n",
       "      <td>0</td>\n",
       "      <td>0</td>\n",
       "      <td>0</td>\n",
       "      <td>0</td>\n",
       "      <td>0</td>\n",
       "      <td>0</td>\n",
       "      <td>0</td>\n",
       "    </tr>\n",
       "  </tbody>\n",
       "</table>\n",
       "<p>5 rows × 113 columns</p>\n",
       "</div>"
      ],
      "text/plain": [
       "   Unnamed: 0  price      brand    model  year   title_status   mileage  \\\n",
       "0           0   6300     toyota  cruiser  2008  clean vehicle  274117.0   \n",
       "1           1   2899       ford       se  2011  clean vehicle  190552.0   \n",
       "2           2   5350      dodge      mpv  2018  clean vehicle   39590.0   \n",
       "3           3  25000       ford     door  2014  clean vehicle   64146.0   \n",
       "4           4  27700  chevrolet     1500  2018  clean vehicle    6654.0   \n",
       "\n",
       "    color                  vin        lot  ... encoded_color_silver  \\\n",
       "0   black    jtezu11f88k007763  159348797  ...                    0   \n",
       "1  silver    2fmdk3gc4bbb02217  166951262  ...                    1   \n",
       "2  silver    3c4pdcgg5jt346413  167655728  ...                    1   \n",
       "3    blue    1ftfw1et4efc23745  167753855  ...                    0   \n",
       "4     red    3gcpcrec2jg473991  167763266  ...                    0   \n",
       "\n",
       "  encoded_color_red  encoded_color_blue  encoded_color_no_color  \\\n",
       "0                 0                   0                       0   \n",
       "1                 0                   0                       0   \n",
       "2                 0                   0                       0   \n",
       "3                 0                   1                       0   \n",
       "4                 1                   0                       0   \n",
       "\n",
       "   encoded_color_green  encoded_color_orange  encoded_color_gold  \\\n",
       "0                    0                     0                   0   \n",
       "1                    0                     0                   0   \n",
       "2                    0                     0                   0   \n",
       "3                    0                     0                   0   \n",
       "4                    0                     0                   0   \n",
       "\n",
       "   encoded_color_charcoal  encoded_color_brown  encoded_color_other  \n",
       "0                       0                    0                    0  \n",
       "1                       0                    0                    0  \n",
       "2                       0                    0                    0  \n",
       "3                       0                    0                    0  \n",
       "4                       0                    0                    0  \n",
       "\n",
       "[5 rows x 113 columns]"
      ]
     },
     "execution_count": 4,
     "metadata": {},
     "output_type": "execute_result"
    }
   ],
   "source": [
    "\n",
    "# Load data\n",
    "df = pd.read_csv(local_path_input)\n",
    "\n",
    "# Extract expiring minutes\n",
    "run_unit_tests_extract_expiring_minutes()\n",
    "df['condition'] = df['condition'].map(lambda x: extract_expiring_minutes(x))\n",
    "    \n",
    "# Custom 1-hot encoder\n",
    "for col in dict_encoder:\n",
    "    df = custom_1hot_encoder(df, col, dict_encoder[col])\n",
    "\n",
    "logging.info(f'Dataframe shape: {df.shape}')\n",
    "df.head()\n"
   ]
  },
  {
   "cell_type": "code",
   "execution_count": 5,
   "metadata": {},
   "outputs": [],
   "source": [
    "\n",
    "#df['color'].value_counts().reset_index() # For viewing the distribution of a variable\n"
   ]
  },
  {
   "cell_type": "markdown",
   "metadata": {},
   "source": [
    "# Modeling"
   ]
  },
  {
   "cell_type": "code",
   "execution_count": 6,
   "metadata": {},
   "outputs": [
    {
     "name": "stderr",
     "output_type": "stream",
     "text": [
      "INFO:root:Df has the following constant features: ['encoded_title_status_other', 'encoded_country_other']\n",
      "INFO:root:Number of missing values (should be 0): 0\n"
     ]
    }
   ],
   "source": [
    "\n",
    "# Extract list of encoded categorical features\n",
    "list_encoded_categorical_features = []\n",
    "for col in list_features_categorical:\n",
    "    list_encoded_categorical_features = list_encoded_categorical_features + [x for x in df.columns.tolist() if col in x]\n",
    "list_encoded_categorical_features = list(set(list_encoded_categorical_features) - set(list_features_categorical))\n",
    "    \n",
    "list_features = list_features_numerical + list_encoded_categorical_features\n",
    "\n",
    "# Extract list of constant features (expected constants: title_status_other and country_other, since I did not remove any levels)\n",
    "list_constant_features = get_list_constant_numerical_features(df, list_features)\n",
    "\n",
    "# Extract final list of model features\n",
    "list_features = list(set(list_features) - set(list_constant_features))\n",
    "\n",
    "# Final features selection\n",
    "X = df[list_features].copy()\n",
    "y = df[target_variable].copy()\n",
    "\n",
    "# Final checks\n",
    "logging.info(f'Number of missing values (should be 0): {df.isnull().sum().sum()}')\n"
   ]
  },
  {
   "cell_type": "markdown",
   "metadata": {},
   "source": [
    "# Split train / test"
   ]
  },
  {
   "cell_type": "code",
   "execution_count": 7,
   "metadata": {},
   "outputs": [],
   "source": [
    "\n",
    "X_train, X_test, y_train, y_test = train_test_split(X, y, test_size=0.25, random_state = seed_int)\n"
   ]
  },
  {
   "cell_type": "markdown",
   "metadata": {},
   "source": [
    "# Optimize memory usage"
   ]
  },
  {
   "cell_type": "code",
   "execution_count": 8,
   "metadata": {},
   "outputs": [],
   "source": [
    "\n",
    "del X, y, df\n"
   ]
  },
  {
   "cell_type": "markdown",
   "metadata": {},
   "source": [
    "# Model fit - Linear"
   ]
  },
  {
   "cell_type": "code",
   "execution_count": 9,
   "metadata": {},
   "outputs": [],
   "source": [
    "\n",
    "lm = LinearRegression().fit(X_train, y_train)\n"
   ]
  },
  {
   "cell_type": "markdown",
   "metadata": {},
   "source": [
    "## The LM does not overfit on the training set (train MSE = test MSE). On test data it performs roughly 2.5x (135M/53M) better than the best random model."
   ]
  },
  {
   "cell_type": "markdown",
   "metadata": {},
   "source": [
    "#### This train/test split is not ideal because the average of the target variable is slighty different between train and test sets. The small dimension of the dataset has a role in this."
   ]
  },
  {
   "cell_type": "code",
   "execution_count": 10,
   "metadata": {},
   "outputs": [
    {
     "name": "stderr",
     "output_type": "stream",
     "text": [
      "INFO:root:Train vs Test - Average target variable: 18919.045357524014 vs 18313.792\n",
      "INFO:root:Train vs Test - Average model prediction: 18919.04535541514 vs 17995.662384033203\n",
      "INFO:root:Train vs Test - Model mse: 54731083.364215404 vs 53519981.29668606\n",
      "INFO:root:Train vs Test - Best random model mse: 150831324.76515967 vs 134658694.52076942\n"
     ]
    }
   ],
   "source": [
    "\n",
    "predictions_train, predictions_test = perform_diagnostics(lm, X_train, X_test, y_train, y_test)\n"
   ]
  },
  {
   "cell_type": "code",
   "execution_count": 11,
   "metadata": {},
   "outputs": [
    {
     "data": {
      "text/plain": [
       "[<matplotlib.lines.Line2D at 0x7f15f4ec2f28>]"
      ]
     },
     "execution_count": 11,
     "metadata": {},
     "output_type": "execute_result"
    },
    {
     "data": {
      "image/png": "[encoded data removed]",
      "text/plain": [
       "<Figure size 432x288 with 1 Axes>"
      ]
     },
     "metadata": {
      "needs_background": "light"
     },
     "output_type": "display_data"
    }
   ],
   "source": [
    "\n",
    "plt.plot(y_train, predictions_train, 'o')\n",
    "    "
   ]
  },
  {
   "cell_type": "code",
   "execution_count": 12,
   "metadata": {},
   "outputs": [
    {
     "data": {
      "text/plain": [
       "[<matplotlib.lines.Line2D at 0x7f15f4dac668>]"
      ]
     },
     "execution_count": 12,
     "metadata": {},
     "output_type": "execute_result"
    },
    {
     "data": {
      "image/png": "[encoded data removed]",
      "text/plain": [
       "<Figure size 432x288 with 1 Axes>"
      ]
     },
     "metadata": {
      "needs_background": "light"
     },
     "output_type": "display_data"
    }
   ],
   "source": [
    "\n",
    "plt.plot(y_test, predictions_test, 'o')\n"
   ]
  },
  {
   "cell_type": "markdown",
   "metadata": {},
   "source": [
    "# Model Fit - RF (should have used GBM since 1-hot encoding generates many features)"
   ]
  },
  {
   "cell_type": "markdown",
   "metadata": {},
   "source": [
    "### In principle we should select hyperparameters through N-fold cross-validated hyperparameter optimization. I did not understand whether this was required in the excercise."
   ]
  },
  {
   "cell_type": "code",
   "execution_count": 13,
   "metadata": {},
   "outputs": [],
   "source": [
    "\n",
    "rf = RandomForestRegressor(random_state = seed_int,\n",
    "                           n_estimators=5, criterion='mse', max_depth=20, min_samples_split=10, max_features=6, min_weight_fraction_leaf=0.0001, max_leaf_nodes=1000).fit(X_train, y_train)\n"
   ]
  },
  {
   "cell_type": "markdown",
   "metadata": {},
   "source": [
    "## As expected, RF (slightly) overfits on train data (train_mse < test_mse). Remark: RF performs better than LM on test data on this seed (50M vs 53M)."
   ]
  },
  {
   "cell_type": "code",
   "execution_count": 14,
   "metadata": {},
   "outputs": [
    {
     "name": "stderr",
     "output_type": "stream",
     "text": [
      "INFO:root:Train vs Test - Average target variable: 18919.045357524014 vs 18313.792\n",
      "INFO:root:Train vs Test - Average model prediction: 18792.637264381778 vs 18398.028974810404\n",
      "INFO:root:Train vs Test - Model mse: 50166484.12483749 vs 55640711.60914524\n",
      "INFO:root:Train vs Test - Best random model mse: 150831324.76515967 vs 134658694.52076942\n"
     ]
    }
   ],
   "source": [
    "\n",
    "predictions_train, predictions_test = perform_diagnostics(rf, X_train, X_test, y_train, y_test)\n"
   ]
  },
  {
   "cell_type": "code",
   "execution_count": 15,
   "metadata": {},
   "outputs": [
    {
     "data": {
      "text/plain": [
       "[<matplotlib.lines.Line2D at 0x7f15f4d22d30>]"
      ]
     },
     "execution_count": 15,
     "metadata": {},
     "output_type": "execute_result"
    },
    {
     "data": {
      "image/png": "[encoded data removed]",
      "text/plain": [
       "<Figure size 432x288 with 1 Axes>"
      ]
     },
     "metadata": {
      "needs_background": "light"
     },
     "output_type": "display_data"
    }
   ],
   "source": [
    "\n",
    "plt.plot(y_train, predictions_train, 'o')\n"
   ]
  },
  {
   "cell_type": "code",
   "execution_count": 16,
   "metadata": {},
   "outputs": [
    {
     "data": {
      "text/plain": [
       "[<matplotlib.lines.Line2D at 0x7f15f4c8b3c8>]"
      ]
     },
     "execution_count": 16,
     "metadata": {},
     "output_type": "execute_result"
    },
    {
     "data": {
      "image/png": "[encoded data removed]",
      "text/plain": [
       "<Figure size 432x288 with 1 Axes>"
      ]
     },
     "metadata": {
      "needs_background": "light"
     },
     "output_type": "display_data"
    }
   ],
   "source": [
    "\n",
    "plt.plot(y_test, predictions_test, 'o')\n"
   ]
  }
 ],
 "metadata": {
  "kernelspec": {
   "display_name": "conda_python3",
   "language": "python",
   "name": "conda_python3"
  },
  "language_info": {
   "codemirror_mode": {
    "name": "ipython",
    "version": 3
   },
   "file_extension": ".py",
   "mimetype": "text/x-python",
   "name": "python",
   "nbconvert_exporter": "python",
   "pygments_lexer": "ipython3",
   "version": "3.6.13"
  }
 },
 "nbformat": 4,
 "nbformat_minor": 4
}
