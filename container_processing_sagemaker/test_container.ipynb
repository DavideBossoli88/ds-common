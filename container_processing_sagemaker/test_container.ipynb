{
 "cells": [
  {
   "cell_type": "markdown",
   "id": "114ba68a",
   "metadata": {},
   "source": [
    "# Setup libraries, parameters and roles"
   ]
  },
  {
   "cell_type": "code",
   "execution_count": 1,
   "id": "2a4fbc0c",
   "metadata": {},
   "outputs": [],
   "source": [
    "\n",
    "import boto3\n",
    "import sagemaker\n",
    "from sagemaker import get_execution_role\n",
    "from sagemaker.processing import ScriptProcessor, Processor, ProcessingInput, ProcessingOutput\n"
   ]
  },
  {
   "cell_type": "code",
   "execution_count": 2,
   "id": "7b7dbb0a",
   "metadata": {},
   "outputs": [],
   "source": [
    "\n",
    "s3_bucket   = 'test-container-sagemaker-processing'\n",
    "script_name = 'test_container.py'\n",
    "image_uri   = '684530550045.dkr.ecr.us-east-2.amazonaws.com/ds-common-0'\n",
    "\n",
    "parameter1  = 'hello world'\n"
   ]
  },
  {
   "cell_type": "code",
   "execution_count": 3,
   "id": "e30ae2b2",
   "metadata": {},
   "outputs": [],
   "source": [
    "\n",
    "session           = boto3.session.Session(profile_name = 'default')\n",
    "sagemaker_session = sagemaker.Session(boto_session = session)\n",
    "role              = 'arn:aws:iam::684530550045:role/sagemaker-role'\n"
   ]
  },
  {
   "cell_type": "markdown",
   "id": "16a4d4bc",
   "metadata": {},
   "source": [
    "# Write test_container.py"
   ]
  },
  {
   "cell_type": "code",
   "execution_count": 7,
   "id": "d82f6a94",
   "metadata": {},
   "outputs": [
    {
     "name": "stdout",
     "output_type": "stream",
     "text": [
      "Overwriting test_container.py\n"
     ]
    }
   ],
   "source": [
    "%%writefile test_container.py\n",
    "\n",
    "import h2o\n",
    "import logging\n",
    "import argparse\n",
    "\n",
    "if __name__ == '__main__':\n",
    "    \n",
    "    # Parse parameters\n",
    "    parser = argparse.ArgumentParser()\n",
    "    parser.add_argument('--parameter1')\n",
    "    \n",
    "    args, _ = parser.parse_known_args()\n",
    "    \n",
    "    parameter1 = args.parameter1\n",
    "    \n",
    "    print(parameter1)\n",
    "    \n",
    "    # Setup H2O\n",
    "    h2o.init()\n"
   ]
  },
  {
   "cell_type": "markdown",
   "id": "129cf112",
   "metadata": {},
   "source": [
    "# Upload .py from local to S3"
   ]
  },
  {
   "cell_type": "code",
   "execution_count": 5,
   "id": "52c40b6f",
   "metadata": {},
   "outputs": [
    {
     "data": {
      "text/plain": [
       "'s3://test-container-sagemaker-processing/scripts/test_container.py'"
      ]
     },
     "execution_count": 5,
     "metadata": {},
     "output_type": "execute_result"
    }
   ],
   "source": [
    "\n",
    "sagemaker_session.upload_data(bucket = s3_bucket, key_prefix = 'scripts', path = script_name)\n"
   ]
  },
  {
   "cell_type": "markdown",
   "id": "9e61b6dc",
   "metadata": {},
   "source": [
    "# Run Sagemaker Processing Job"
   ]
  },
  {
   "cell_type": "code",
   "execution_count": 6,
   "id": "5b146d3d",
   "metadata": {},
   "outputs": [
    {
     "name": "stdout",
     "output_type": "stream",
     "text": [
      "\n",
      "Job Name:  ds-common-2022-04-18-07-55-39-628\n",
      "Inputs:  [{'InputName': 'code', 'AppManaged': False, 'S3Input': {'S3Uri': 's3://test-container-sagemaker-processing/scripts/test_container.py', 'LocalPath': '/opt/ml/processing/input/code', 'S3DataType': 'S3Prefix', 'S3InputMode': 'File', 'S3DataDistributionType': 'FullyReplicated', 'S3CompressionType': 'None'}}]\n",
      "Outputs:  []\n"
     ]
    }
   ],
   "source": [
    "\n",
    "processor = ScriptProcessor(\n",
    "                            image_uri              = image_uri,\n",
    "                            role                   = role,\n",
    "                            instance_count         = 1,\n",
    "                            instance_type          = 'ml.m5.large',\n",
    "                            command                = ['python3'],\n",
    "                            sagemaker_session      = sagemaker_session,\n",
    "                            max_runtime_in_seconds = 1800,\n",
    "                            base_job_name          = 'ds-common'\n",
    "                           )\n",
    "\n",
    "processor.run(\n",
    "              code      = f's3://{s3_bucket}/scripts/{script_name}',\n",
    "              arguments = [\n",
    "                           '--parameter1', parameter1\n",
    "                          ],\n",
    "              wait      = False\n",
    "             )\n"
   ]
  }
 ],
 "metadata": {
  "kernelspec": {
   "display_name": "conda_python3",
   "language": "python",
   "name": "conda_python3"
  },
  "language_info": {
   "codemirror_mode": {
    "name": "ipython",
    "version": 3
   },
   "file_extension": ".py",
   "mimetype": "text/x-python",
   "name": "python",
   "nbconvert_exporter": "python",
   "pygments_lexer": "ipython3",
   "version": "3.6.13"
  }
 },
 "nbformat": 4,
 "nbformat_minor": 5
}
