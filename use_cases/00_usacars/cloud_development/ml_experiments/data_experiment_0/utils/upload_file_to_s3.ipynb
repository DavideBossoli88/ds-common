{
 "cells": [
  {
   "cell_type": "markdown",
   "id": "2f363bfd-01be-4ca4-a8c0-da6e4f0bd76e",
   "metadata": {},
   "source": [
    "This notebook saves the USA_cars_datasets.csv in an appropriate S3 bucket & key that depend on the ML experiment name"
   ]
  },
  {
   "cell_type": "markdown",
   "id": "05ae820c-827a-4f6d-ab79-3259bdb567e7",
   "metadata": {},
   "source": [
    "# Load libraries and config environment"
   ]
  },
  {
   "cell_type": "code",
   "execution_count": null,
   "id": "20c986c6-9425-4fd0-9119-c0c6c0ef8609",
   "metadata": {},
   "outputs": [],
   "source": [
    "\n",
    "import boto3\n",
    "import sagemaker\n",
    "\n",
    "session           = boto3.session.Session(profile_name = 'default')\n",
    "sagemaker_session = sagemaker.Session(boto_session = session)\n"
   ]
  },
  {
   "cell_type": "markdown",
   "id": "4012d8a9-a3d1-4ff6-8a0d-d0814675bbb9",
   "metadata": {},
   "source": [
    "# Setup parameters"
   ]
  },
  {
   "cell_type": "code",
   "execution_count": null,
   "id": "96fee75c-75e0-4ce8-a017-17b255537c11",
   "metadata": {},
   "outputs": [],
   "source": [
    "\n",
    "str_tag_data_experiment = 'experiment_0'\n",
    "\n",
    "str_s3_bucket           = 'us-cars-data'\n",
    "str_key_prefix          = f'ml_experiments/{str_tag_data_experiment}/data/input_data/'\n",
    "\n",
    "str_local_path_file     = '../../../data/USA_cars_datasets.csv'\n"
   ]
  },
  {
   "cell_type": "markdown",
   "id": "99e11c29-6032-4acf-ae09-4dbbb76504c0",
   "metadata": {},
   "source": [
    "# Upload data"
   ]
  },
  {
   "cell_type": "code",
   "execution_count": null,
   "id": "60f38f1f-ef3d-4f2c-a748-46e72095e428",
   "metadata": {},
   "outputs": [],
   "source": [
    "\n",
    "sagemaker_session.upload_data(bucket = str_s3_bucket, key_prefix = str_key_prefix, path = str_local_path_file)\n"
   ]
  }
 ],
 "metadata": {
  "kernelspec": {
   "display_name": "Python 3 (ipykernel)",
   "language": "python",
   "name": "python3"
  },
  "language_info": {
   "codemirror_mode": {
    "name": "ipython",
    "version": 3
   },
   "file_extension": ".py",
   "mimetype": "text/x-python",
   "name": "python",
   "nbconvert_exporter": "python",
   "pygments_lexer": "ipython3",
   "version": "3.9.12"
  }
 },
 "nbformat": 4,
 "nbformat_minor": 5
}
