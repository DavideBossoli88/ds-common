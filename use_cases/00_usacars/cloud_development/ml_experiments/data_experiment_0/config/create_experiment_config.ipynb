{
 "cells": [
  {
   "cell_type": "markdown",
   "id": "ab37d1d3-c627-41a3-8165-1770d02bfa1c",
   "metadata": {},
   "source": [
    "# Import libraries"
   ]
  },
  {
   "cell_type": "code",
   "execution_count": 1,
   "id": "d9145a44-f09b-4add-a6ae-f7bdc3e39cbf",
   "metadata": {},
   "outputs": [],
   "source": [
    "\n",
    "#import boto3\n",
    "import json\n",
    "#import sagemaker\n",
    "#from sagemaker import get_execution_role\n",
    "\n",
    "#session           = boto3.session.Session(profile_name = 'default')\n",
    "#sagemaker_session = sagemaker.Session(boto_session = session)\n"
   ]
  },
  {
   "cell_type": "markdown",
   "id": "77a8b592-a36f-4ed0-9a67-bb5a1bbf055a",
   "metadata": {},
   "source": [
    "# Setup parameters"
   ]
  },
  {
   "cell_type": "code",
   "execution_count": 2,
   "id": "b222373f-f9ea-4a7c-be7d-b458c6d6f038",
   "metadata": {},
   "outputs": [],
   "source": [
    "\n",
    "str_local_config_file = 'experiment_config.json'\n"
   ]
  },
  {
   "cell_type": "markdown",
   "id": "ec9f6f14-a168-41f4-8dd3-f02711eeaefd",
   "metadata": {},
   "source": [
    "# Setup experiment config "
   ]
  },
  {
   "cell_type": "code",
   "execution_count": 3,
   "id": "cc47d5cd-9d31-48db-99ac-24730c5ae1b6",
   "metadata": {},
   "outputs": [],
   "source": [
    "\n",
    "dict_ = {\n",
    "         ## Global parameters\n",
    "          'str_project':             'uscars'\n",
    "         ,'str_bucket':              'us-cars-data'\n",
    "         ,'str_prefix':              'ml_experiments/'\n",
    "         ,'str_sagemaker_role':      'arn:aws:iam::684530550045:role/sagemaker-role' \n",
    "         ,'dict_tags_sagemaker':     {}   \n",
    "         ,'dict_tags_glue':          {}\n",
    "\n",
    "         ## Experiment parameters\n",
    "         ,'str_tag_data_experiment': 'data_experiment_0'\n",
    "         ,'str_image_uri':           '684530550045.dkr.ecr.us-east-2.amazonaws.com/train_automl'  \n",
    "    \n",
    "         ## ETL parameters\n",
    "         ,'dict_etl':                {}\n",
    "         ,'dict_precomputed_tables': {}\n",
    "        }\n"
   ]
  },
  {
   "cell_type": "markdown",
   "id": "bf91ffcd-1bc1-418b-8e60-3cef13f4ef76",
   "metadata": {},
   "source": [
    "# Dict precomputed-tables"
   ]
  },
  {
   "cell_type": "markdown",
   "id": "edaa1ceb-15a4-4c39-8ff8-54a0afe02f82",
   "metadata": {},
   "source": [
    "## Glue job 1"
   ]
  },
  {
   "cell_type": "code",
   "execution_count": null,
   "id": "bced9ebb-1a3f-484c-b887-2bb925109727",
   "metadata": {},
   "outputs": [],
   "source": []
  },
  {
   "cell_type": "code",
   "execution_count": null,
   "id": "29f5e3be-8523-4de6-b1e4-ed365b2c2f14",
   "metadata": {},
   "outputs": [],
   "source": []
  },
  {
   "cell_type": "markdown",
   "id": "e554a5a1-bc4a-4831-bf34-0b2f1a629dd6",
   "metadata": {},
   "source": [
    "# Dict ETL"
   ]
  },
  {
   "cell_type": "markdown",
   "id": "67397c8c-1a90-4939-a7fa-3660825bd240",
   "metadata": {},
   "source": [
    "### Sagemaker Job 1"
   ]
  },
  {
   "cell_type": "code",
   "execution_count": 4,
   "id": "8771a0be-70cc-4eaf-9f40-837d251ac1b0",
   "metadata": {},
   "outputs": [],
   "source": [
    "\n",
    "str_job_name                = 'job_1'\n",
    "str_service_name            = 'sagemaker'\n",
    "str_script_name             = f'{str_job_name}.py'\n",
    "\n",
    "dict_script_processor_job = {\n",
    "                              'image_uri':              dict_['str_image_uri']\n",
    "                             ,'sagemaker_role':         dict_['str_sagemaker_role']\n",
    "                             ,'instance_count':         1\n",
    "                             ,'instance_type':          'ml.m5.large'\n",
    "                             ,'command':                ['python3']\n",
    "                             ,'max_runtime_in_seconds': 600 \n",
    "                             ,'base_job_name':          f\"{dict_['str_project']}-{str_job_name}\"\n",
    "                            }\n",
    "\n",
    "dict_job = {\n",
    "            'str_job_name':           str_job_name\n",
    "            ,'str_service_name':      str_service_name\n",
    "            ,'str_script_name':       str_script_name\n",
    "            ,'dict_script_processor': dict_script_processor_job\n",
    "           }\n",
    "\n",
    "dict_['dict_etl'][str_job_name] = dict_job\n"
   ]
  },
  {
   "cell_type": "markdown",
   "id": "0df2b3b4-f91b-4694-87d5-85efabd7873b",
   "metadata": {},
   "source": [
    "## Sagemaker Automl job"
   ]
  },
  {
   "cell_type": "code",
   "execution_count": 5,
   "id": "50a87454-943d-4534-b7d2-ee6d1e35603e",
   "metadata": {},
   "outputs": [],
   "source": [
    "\n",
    "str_job_name                = 'automl_job'\n",
    "str_service_name            = 'sagemaker'\n",
    "str_script_name             = f'{str_job_name}.py'\n",
    "\n",
    "dict_script_processor_job = {\n",
    "                              'image_uri':              dict_['str_image_uri']\n",
    "                             ,'sagemaker_role':         dict_['str_sagemaker_role']\n",
    "                             ,'instance_count':         1\n",
    "                             ,'instance_type':          'ml.m5.large'\n",
    "                             ,'command':                ['python3']\n",
    "                             ,'max_runtime_in_seconds': 600 \n",
    "                             ,'base_job_name':          f\"{dict_['str_project']}-{str_job_name}\" \n",
    "                            }\n",
    "\n",
    "dict_job = {\n",
    "            'str_job_name':           str_job_name\n",
    "            ,'str_service_name':      str_service_name\n",
    "            ,'str_script_name':       str_script_name\n",
    "            ,'dict_script_processor': dict_script_processor_job\n",
    "           }\n",
    "\n",
    "dict_['dict_etl'][str_job_name] = dict_job\n"
   ]
  },
  {
   "cell_type": "markdown",
   "id": "ec078e95-e171-4355-93f6-df1ac8e9734c",
   "metadata": {},
   "source": [
    "# Save json file locally"
   ]
  },
  {
   "cell_type": "code",
   "execution_count": 6,
   "id": "eaf4504b-1fd3-4d40-b9b3-8383df9f6368",
   "metadata": {},
   "outputs": [],
   "source": [
    "\n",
    "with open(str_local_config_file, 'w') as f:\n",
    "    json.dump(dict_, f)\n",
    "    "
   ]
  },
  {
   "cell_type": "markdown",
   "id": "96f4fc99-17e2-43a6-bd36-85e5a9b5e9a0",
   "metadata": {},
   "source": [
    "# Upload json file to S3"
   ]
  },
  {
   "cell_type": "code",
   "execution_count": null,
   "id": "c86f2dfa-2a8a-45c9-9f8f-724aceccfb36",
   "metadata": {},
   "outputs": [],
   "source": [
    "\n",
    "sagemaker_session.upload_data(bucket     = dict_['str_s3_bucket'], \n",
    "                              key_prefix = f'ml_experiments/dict_['str_tag_data_experiment']}/config/', \n",
    "                              path       = str_local_config_file)\n"
   ]
  }
 ],
 "metadata": {
  "kernelspec": {
   "display_name": "Python 3 (ipykernel)",
   "language": "python",
   "name": "python3"
  },
  "language_info": {
   "codemirror_mode": {
    "name": "ipython",
    "version": 3
   },
   "file_extension": ".py",
   "mimetype": "text/x-python",
   "name": "python",
   "nbconvert_exporter": "python",
   "pygments_lexer": "ipython3",
   "version": "3.9.12"
  }
 },
 "nbformat": 4,
 "nbformat_minor": 5
}
