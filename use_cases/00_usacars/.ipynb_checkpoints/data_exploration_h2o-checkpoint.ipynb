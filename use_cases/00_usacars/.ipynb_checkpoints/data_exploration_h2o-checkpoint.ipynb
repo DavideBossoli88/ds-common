{
 "cells": [
  {
   "cell_type": "markdown",
   "metadata": {},
   "source": [
    "# Load libraries"
   ]
  },
  {
   "cell_type": "code",
   "execution_count": null,
   "metadata": {},
   "outputs": [],
   "source": [
    "\n",
    "# General libraries\n",
    "import numpy as np\n",
    "import pandas as pd\n",
    "import h2o\n",
    "from h2o.automl import H2OAutoML\n",
    "import logging\n",
    "\n",
    "\n",
    "# Custom libraries\n",
    "from shared_core_data_processing import * \n",
    "from spec_core_data_processing import *\n",
    "\n",
    "from shared_testing_data_processing import * \n",
    "from spec_testing_data_processing import *\n",
    "\n",
    "\n",
    "# Other setup\n",
    "logger = logging.getLogger()\n",
    "logger.setLevel(logging.INFO)\n"
   ]
  },
  {
   "cell_type": "markdown",
   "metadata": {},
   "source": [
    "# Test custom libraries"
   ]
  },
  {
   "cell_type": "code",
   "execution_count": null,
   "metadata": {},
   "outputs": [],
   "source": [
    "\n",
    "## Test shared function ds_common_pandas_dataframe_split_main\n",
    "run_unit_test_00_ds_common_pandas_dataframe_split_main()\n",
    "\n",
    "## Test spec function extract_expiring_minutes\n",
    "run_unit_test_00_extract_expiring_minutes()\n"
   ]
  },
  {
   "cell_type": "markdown",
   "metadata": {},
   "source": [
    "# Define parameters"
   ]
  },
  {
   "cell_type": "code",
   "execution_count": null,
   "metadata": {},
   "outputs": [],
   "source": [
    "\n",
    "# Processing parameters\n",
    "local_path_input          = 'USA_cars_datasets.csv'\n",
    "\n",
    "# Modelling parameters\n",
    "lst_features_categorical = ['brand', 'model', 'title_status', 'state', 'country', 'color']\n",
    "lst_features_numerical   = ['year', 'mileage', 'condition']\n",
    "str_target_variable      = 'price'\n",
    "int_seed                  = 20                                \n",
    "str_data_id               = 'data_id'\n",
    "\n",
    "# Train/test and CV split parameters\n",
    "dict_metrics              = {'price': ['mean']}\n",
    "dict_metrics_tolerance    = {'price_mean': 0.01}\n",
    "int_max_number_iterations = 100\n",
    "dict_splits               = {'train': 0.75, 'test': 0.25}\n",
    "dict_splits_cv            = {'1': 0.33, '2': 0.33, '3': 0.34}\n",
    "str_colname_split         = 'flag_split_train_test'\n",
    "str_colname_split_cv      = 'flag_split_folds'\n",
    "\n",
    "# Training parameters\n",
    "dict_h2o_automl = {\n",
    "                   'max_models':         10, \n",
    "                   'max_runtime_secs':   600,    # 10 Minutes\n",
    "                   'seed':               int_seed,\n",
    "                   'sort_metric':        'RMSE',\n",
    "                   'stopping_tolerance': 0.001,\n",
    "                   'exclude_algos':      ['XGBoost'], # Not available on windows\n",
    "                   'exploitation_ratio': 0.1\n",
    "                  }\n"
   ]
  },
  {
   "cell_type": "markdown",
   "metadata": {},
   "source": [
    "# Main processing"
   ]
  },
  {
   "cell_type": "code",
   "execution_count": null,
   "metadata": {},
   "outputs": [],
   "source": [
    "\n",
    "### Data processing\n",
    "## Load data\n",
    "df = pd.read_csv(local_path_input)\n",
    "\n",
    "## Extract expiring minutes\n",
    "df['condition'] = df['condition'].map(lambda x: extract_expiring_minutes(x))\n",
    "\n",
    "## Create data id column\n",
    "df[str_data_id] = df.index\n",
    "\n",
    "\n",
    "### Data split\n",
    "## Add train/test and CV split columns\n",
    "# train/test split column\n",
    "list_input_columns   = [key for key in dict_metrics.keys()] + [str_data_id]\n",
    "df_split_col         = ds_common_pandas_dataframe_split_main(df[list_input_columns].copy(), str_colname_split , dict_splits, dict_metrics, dict_metrics_tolerance, int_seed, int_max_number_iterations)\n",
    "df                   = pd.merge(left = df, right = df_split_col[[str_data_id , str_colname_split]], how = \"left\", on = 'data_id')\n",
    "\n",
    "# CV split column (remark: it must be done on training set only)\n",
    "list_input_columns       = [key for key in dict_metrics.keys()] + [str_data_id]\n",
    "df_split_col_cv          = ds_common_pandas_dataframe_split_main(df[df[str_colname_split]=='train'][list_input_columns].copy(), str_colname_split_cv , dict_splits_cv, dict_metrics, dict_metrics_tolerance, int_seed, int_max_number_iterations)\n",
    "df                       = pd.merge(left = df, right = df_split_col_cv[[str_data_id , str_colname_split_cv]], how = \"left\", on = 'data_id')\n",
    "df[str_colname_split_cv] = df[str_colname_split_cv].map(lambda x: 'missing' if pd.isnull(x) else x)\n"
   ]
  },
  {
   "cell_type": "markdown",
   "metadata": {},
   "source": [
    "# H2O Modeling"
   ]
  },
  {
   "cell_type": "code",
   "execution_count": 5,
   "metadata": {},
   "outputs": [
    {
     "name": "stdout",
     "output_type": "stream",
     "text": [
      "  Server is running at http://127.0.0.1:54321\n",
      "Connecting to H2O server at http://127.0.0.1:54321 ... successful.\n",
      "Warning: Your H2O cluster version is too old (1 year, 10 months and 21 days)! Please download and install the latest version from http://h2o.ai/download/\n"
     ]
    },
    {
     "data": {
      "text/html": [
       "<div style=\"overflow:auto\"><table style=\"width:50%\"><tr><td>H2O_cluster_uptime:</td>\n",
       "<td>03 secs</td></tr>\n",
       "<tr><td>H2O_cluster_timezone:</td>\n",
       "<td>Europe/Berlin</td></tr>\n",
       "<tr><td>H2O_data_parsing_timezone:</td>\n",
       "<td>UTC</td></tr>\n",
       "<tr><td>H2O_cluster_version:</td>\n",
       "<td>3.30.0.4</td></tr>\n",
       "<tr><td>H2O_cluster_version_age:</td>\n",
       "<td>1 year, 10 months and 21 days !!!</td></tr>\n",
       "<tr><td>H2O_cluster_name:</td>\n",
       "<td>H2O_from_python_david_4frkb8</td></tr>\n",
       "<tr><td>H2O_cluster_total_nodes:</td>\n",
       "<td>1</td></tr>\n",
       "<tr><td>H2O_cluster_free_memory:</td>\n",
       "<td>1.762 Gb</td></tr>\n",
       "<tr><td>H2O_cluster_total_cores:</td>\n",
       "<td>4</td></tr>\n",
       "<tr><td>H2O_cluster_allowed_cores:</td>\n",
       "<td>1</td></tr>\n",
       "<tr><td>H2O_cluster_status:</td>\n",
       "<td>accepting new members, healthy</td></tr>\n",
       "<tr><td>H2O_connection_url:</td>\n",
       "<td>http://127.0.0.1:54321</td></tr>\n",
       "<tr><td>H2O_connection_proxy:</td>\n",
       "<td>{\"http\": null, \"https\": null}</td></tr>\n",
       "<tr><td>H2O_internal_security:</td>\n",
       "<td>False</td></tr>\n",
       "<tr><td>H2O_API_Extensions:</td>\n",
       "<td>Amazon S3, Algos, AutoML, Core V3, TargetEncoder, Core V4</td></tr>\n",
       "<tr><td>Python_version:</td>\n",
       "<td>3.9.7 final</td></tr></table></div>"
      ],
      "text/plain": [
       "--------------------------  ---------------------------------------------------------\n",
       "H2O_cluster_uptime:         03 secs\n",
       "H2O_cluster_timezone:       Europe/Berlin\n",
       "H2O_data_parsing_timezone:  UTC\n",
       "H2O_cluster_version:        3.30.0.4\n",
       "H2O_cluster_version_age:    1 year, 10 months and 21 days !!!\n",
       "H2O_cluster_name:           H2O_from_python_david_4frkb8\n",
       "H2O_cluster_total_nodes:    1\n",
       "H2O_cluster_free_memory:    1.762 Gb\n",
       "H2O_cluster_total_cores:    4\n",
       "H2O_cluster_allowed_cores:  1\n",
       "H2O_cluster_status:         accepting new members, healthy\n",
       "H2O_connection_url:         http://127.0.0.1:54321\n",
       "H2O_connection_proxy:       {\"http\": null, \"https\": null}\n",
       "H2O_internal_security:      False\n",
       "H2O_API_Extensions:         Amazon S3, Algos, AutoML, Core V3, TargetEncoder, Core V4\n",
       "Python_version:             3.9.7 final\n",
       "--------------------------  ---------------------------------------------------------"
      ]
     },
     "metadata": {},
     "output_type": "display_data"
    },
    {
     "name": "stdout",
     "output_type": "stream",
     "text": [
      "Parse progress: |█████████████████████████████████████████████████████████| 100%\n"
     ]
    },
    {
     "name": "stderr",
     "output_type": "stream",
     "text": [
      "INFO:root:Train vs test target variable mean:     18769.669185105253 vs 18761.941176470602\n",
      "INFO:root:Train vs test target variable variance: 149831594.49363422 vs 138321938.14227074\n"
     ]
    },
    {
     "name": "stdout",
     "output_type": "stream",
     "text": [
      "AutoML progress: |\n",
      "15:48:49.718: Fold column flag_split_folds will be used for cross-validation. nfolds parameter will be ignored.\n",
      "15:48:49.719: Stopping tolerance set by the user is < 70% of the recommended default of 0.02323069967623409, so models may take a long time to converge or may not converge at all.\n",
      "\n",
      "████████████████████████████████████████████████████████| 100%\n"
     ]
    },
    {
     "data": {
      "text/html": [
       "<table>\n",
       "<thead>\n",
       "<tr><th>model_id                                           </th><th style=\"text-align: right;\">    rmse</th><th style=\"text-align: right;\">  mean_residual_deviance</th><th style=\"text-align: right;\">        mse</th><th style=\"text-align: right;\">    mae</th><th style=\"text-align: right;\">    rmsle</th></tr>\n",
       "</thead>\n",
       "<tbody>\n",
       "<tr><td>StackedEnsemble_BestOfFamily_AutoML_20220422_154849</td><td style=\"text-align: right;\"> 6745.12</td><td style=\"text-align: right;\">             4.54966e+07</td><td style=\"text-align: right;\">4.54966e+07</td><td style=\"text-align: right;\">4194.34</td><td style=\"text-align: right;\">nan      </td></tr>\n",
       "<tr><td>StackedEnsemble_AllModels_AutoML_20220422_154849   </td><td style=\"text-align: right;\"> 6746.21</td><td style=\"text-align: right;\">             4.55114e+07</td><td style=\"text-align: right;\">4.55114e+07</td><td style=\"text-align: right;\">4182.58</td><td style=\"text-align: right;\">nan      </td></tr>\n",
       "<tr><td>GBM_1_AutoML_20220422_154849                       </td><td style=\"text-align: right;\"> 6904.85</td><td style=\"text-align: right;\">             4.7677e+07 </td><td style=\"text-align: right;\">4.7677e+07 </td><td style=\"text-align: right;\">4186.71</td><td style=\"text-align: right;\">nan      </td></tr>\n",
       "<tr><td>GBM_2_AutoML_20220422_154849                       </td><td style=\"text-align: right;\"> 6935.78</td><td style=\"text-align: right;\">             4.81051e+07</td><td style=\"text-align: right;\">4.81051e+07</td><td style=\"text-align: right;\">4204.46</td><td style=\"text-align: right;\">nan      </td></tr>\n",
       "<tr><td>GBM_3_AutoML_20220422_154849                       </td><td style=\"text-align: right;\"> 6955.95</td><td style=\"text-align: right;\">             4.83852e+07</td><td style=\"text-align: right;\">4.83852e+07</td><td style=\"text-align: right;\">4211.05</td><td style=\"text-align: right;\">nan      </td></tr>\n",
       "<tr><td>GBM_grid__1_AutoML_20220422_154849_model_1         </td><td style=\"text-align: right;\"> 6981.26</td><td style=\"text-align: right;\">             4.8738e+07 </td><td style=\"text-align: right;\">4.8738e+07 </td><td style=\"text-align: right;\">4386.39</td><td style=\"text-align: right;\">nan      </td></tr>\n",
       "<tr><td>DRF_1_AutoML_20220422_154849                       </td><td style=\"text-align: right;\"> 6985.82</td><td style=\"text-align: right;\">             4.88017e+07</td><td style=\"text-align: right;\">4.88017e+07</td><td style=\"text-align: right;\">4156.29</td><td style=\"text-align: right;\">  1.07768</td></tr>\n",
       "<tr><td>GBM_4_AutoML_20220422_154849                       </td><td style=\"text-align: right;\"> 7005.66</td><td style=\"text-align: right;\">             4.90793e+07</td><td style=\"text-align: right;\">4.90793e+07</td><td style=\"text-align: right;\">4225.1 </td><td style=\"text-align: right;\">nan      </td></tr>\n",
       "<tr><td>GBM_5_AutoML_20220422_154849                       </td><td style=\"text-align: right;\"> 7091.99</td><td style=\"text-align: right;\">             5.02963e+07</td><td style=\"text-align: right;\">5.02963e+07</td><td style=\"text-align: right;\">4464.77</td><td style=\"text-align: right;\">nan      </td></tr>\n",
       "<tr><td>DeepLearning_1_AutoML_20220422_154849              </td><td style=\"text-align: right;\"> 7545.77</td><td style=\"text-align: right;\">             5.69386e+07</td><td style=\"text-align: right;\">5.69386e+07</td><td style=\"text-align: right;\">5113.93</td><td style=\"text-align: right;\">nan      </td></tr>\n",
       "<tr><td>XRT_1_AutoML_20220422_154849                       </td><td style=\"text-align: right;\"> 8179.32</td><td style=\"text-align: right;\">             6.69012e+07</td><td style=\"text-align: right;\">6.69012e+07</td><td style=\"text-align: right;\">5385.73</td><td style=\"text-align: right;\">  1.15256</td></tr>\n",
       "<tr><td>GLM_1_AutoML_20220422_154849                       </td><td style=\"text-align: right;\">12237.3 </td><td style=\"text-align: right;\">             1.49751e+08</td><td style=\"text-align: right;\">1.49751e+08</td><td style=\"text-align: right;\">9436.79</td><td style=\"text-align: right;\">  1.6888 </td></tr>\n",
       "</tbody>\n",
       "</table>"
      ]
     },
     "metadata": {},
     "output_type": "display_data"
    },
    {
     "data": {
      "text/plain": []
     },
     "execution_count": 5,
     "metadata": {},
     "output_type": "execute_result"
    }
   ],
   "source": [
    "\n",
    "# Remove constant features from list of explanatory features\n",
    "lst_features          = lst_features_numerical + lst_features_categorical\n",
    "lst_constant_features = ds_common_get_list_constant_features_main(df, lst_features)\n",
    "lst_features          = list(set(lst_features) - set(lst_constant_features))\n",
    "\n",
    "\n",
    "## Initialize H2O\n",
    "h2o.init(nthreads = 1)\n",
    "\n",
    "\n",
    "## Convert pandas frame to H2O frame\n",
    "df_h2o = h2o.H2OFrame(df)\n",
    "\n",
    "\n",
    "## Split train / test H2O\n",
    "mask_train   = df_h2o[str_colname_split] == \"train\"\n",
    "mask_test    = df_h2o[str_colname_split] == \"test\"\n",
    "df_h2o_train = df_h2o[mask_train, :]\n",
    "df_h2o_test  = df_h2o[mask_test, :] \n",
    "\n",
    "\n",
    "## Convert fold columns to factor\n",
    "df_h2o_train[str_colname_split_cv] = df_h2o_train[str_colname_split_cv].asfactor()\n",
    "\n",
    "\n",
    "## Explore splits target variable mean and variance\n",
    "logging.info(f'Train vs test target variable mean:     {df_h2o_train[str_target_variable].mean()[0]} vs {df_h2o_test[str_target_variable].mean()[0]}')\n",
    "logging.info(f'Train vs test target variable variance: {df_h2o_train[str_target_variable].var()} vs {df_h2o_test[str_target_variable].var()}')\n",
    "\n",
    "\n",
    "## Optimize memory usage\n",
    "del df\n",
    "h2o.remove(df_h2o)\n",
    "\n",
    "\n",
    "## Fit H2O Automl on train set\n",
    "aml = H2OAutoML(**dict_h2o_automl)\n",
    "aml.train(x=lst_features, y=str_target_variable, training_frame=df_h2o_train, fold_column = str_colname_split_cv)\n",
    "\n",
    "\n",
    "## Explore Automl cross-validation results\n",
    "# Remark: the leaderboard contains the cross-validated metrics\n",
    "lb = aml.leaderboard\n",
    "lb.head(rows=lb.nrows)\n"
   ]
  },
  {
   "cell_type": "markdown",
   "metadata": {},
   "source": [
    "# Explore top model "
   ]
  },
  {
   "cell_type": "code",
   "execution_count": 6,
   "metadata": {},
   "outputs": [],
   "source": [
    "\n",
    "top_ml_model = h2o.get_model(lb.as_data_frame()['model_id'][0])\n"
   ]
  },
  {
   "cell_type": "code",
   "execution_count": 7,
   "metadata": {},
   "outputs": [
    {
     "name": "stdout",
     "output_type": "stream",
     "text": [
      "\n",
      "ModelMetricsRegressionGLM: stackedensemble\n",
      "** Reported on test data. **\n",
      "\n",
      "MSE: 30051598.834669862\n",
      "RMSE: 5481.933859019996\n",
      "MAE: 3626.344927210771\n",
      "RMSLE: NaN\n",
      "R^2: 0.7824047951828679\n",
      "Mean Residual Deviance: 30051598.834669862\n",
      "Null degrees of freedom: 645\n",
      "Residual degrees of freedom: 641\n",
      "Null deviance: 89217688682.25267\n",
      "Residual deviance: 19413332847.19673\n",
      "AIC: 12968.372054379854\n"
     ]
    },
    {
     "data": {
      "text/plain": []
     },
     "execution_count": 7,
     "metadata": {},
     "output_type": "execute_result"
    }
   ],
   "source": [
    "\n",
    "# Test set\n",
    "top_ml_model.model_performance(df_h2o_test)\n"
   ]
  },
  {
   "cell_type": "code",
   "execution_count": 8,
   "metadata": {},
   "outputs": [
    {
     "name": "stdout",
     "output_type": "stream",
     "text": [
      "\n",
      "ModelMetricsRegressionGLM: stackedensemble\n",
      "** Reported on test data. **\n",
      "\n",
      "MSE: 10610582.884841708\n",
      "RMSE: 3257.3889673850294\n",
      "MAE: 2053.077049419546\n",
      "RMSLE: NaN\n",
      "R^2: 0.9291450366183611\n",
      "Mean Residual Deviance: 10610582.884841708\n",
      "Null degrees of freedom: 1852\n",
      "Residual degrees of freedom: 1848\n",
      "Null deviance: 277488113002.2109\n",
      "Residual deviance: 19661410085.611687\n",
      "AIC: 35247.23881721631\n"
     ]
    },
    {
     "data": {
      "text/plain": []
     },
     "execution_count": 8,
     "metadata": {},
     "output_type": "execute_result"
    }
   ],
   "source": [
    "\n",
    "# Train set\n",
    "top_ml_model.model_performance(df_h2o_train)\n"
   ]
  },
  {
   "cell_type": "markdown",
   "metadata": {},
   "source": [
    "# Explain H2O Automl"
   ]
  },
  {
   "cell_type": "code",
   "execution_count": 9,
   "metadata": {},
   "outputs": [
    {
     "ename": "AttributeError",
     "evalue": "'H2OAutoML' object has no attribute 'explain'",
     "output_type": "error",
     "traceback": [
      "\u001b[1;31m---------------------------------------------------------------------------\u001b[0m",
      "\u001b[1;31mAttributeError\u001b[0m                            Traceback (most recent call last)",
      "\u001b[1;32m~\\AppData\\Local\\Temp/ipykernel_3512/535147675.py\u001b[0m in \u001b[0;36m<module>\u001b[1;34m\u001b[0m\n\u001b[1;32m----> 1\u001b[1;33m \u001b[0maml\u001b[0m\u001b[1;33m.\u001b[0m\u001b[0mexplain\u001b[0m\u001b[1;33m(\u001b[0m\u001b[0mdf_h2o_test\u001b[0m\u001b[1;33m)\u001b[0m\u001b[1;33m\u001b[0m\u001b[1;33m\u001b[0m\u001b[0m\n\u001b[0m",
      "\u001b[1;31mAttributeError\u001b[0m: 'H2OAutoML' object has no attribute 'explain'"
     ]
    }
   ],
   "source": [
    "\n",
    "aml.explain(df_h2o_test)\n"
   ]
  },
  {
   "cell_type": "code",
   "execution_count": null,
   "metadata": {},
   "outputs": [],
   "source": []
  }
 ],
 "metadata": {
  "kernelspec": {
   "display_name": "Python 3 (ipykernel)",
   "language": "python",
   "name": "python3"
  },
  "language_info": {
   "codemirror_mode": {
    "name": "ipython",
    "version": 3
   },
   "file_extension": ".py",
   "mimetype": "text/x-python",
   "name": "python",
   "nbconvert_exporter": "python",
   "pygments_lexer": "ipython3",
   "version": "3.9.7"
  }
 },
 "nbformat": 4,
 "nbformat_minor": 4
}
